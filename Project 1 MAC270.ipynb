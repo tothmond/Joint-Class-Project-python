{
 "cells": [
  {
   "cell_type": "markdown",
   "metadata": {},
   "source": [
    "# Project 1 by Aaron Dreyfuss and Raymond Toth"
   ]
  },
  {
   "cell_type": "markdown",
   "metadata": {},
   "source": [
    "# Part 1 - Import necessary libraries"
   ]
  },
  {
   "cell_type": "code",
   "execution_count": 129,
   "metadata": {},
   "outputs": [],
   "source": [
    "import numpy as np\n",
    "import pandas as pd\n",
    "import matplotlib.pyplot as plt\n",
    "from matplotlib import rcParams"
   ]
  },
  {
   "cell_type": "markdown",
   "metadata": {},
   "source": [
    "# Create a DataFrame with dictionary"
   ]
  },
  {
   "cell_type": "code",
   "execution_count": 130,
   "metadata": {},
   "outputs": [],
   "source": [
    "DataFrame = {'WWE Champion' : ['AJ Styles', 'Bob Backlund', 'Bret Hart','Brock Lesnar', 'Bruno Sammartino', 'CM Punk', 'Diesel', 'Hulk Hogan', 'John Cena','Kurt Angle', 'Pedro Morales', 'Randy Savage', 'Randy Orton', 'Shawn Michaels','Stone Cold Steve Austin', 'Superstar Billy Graham', 'The Rock', 'The Ultimate Warrior','The Undertaker', 'Triple H'],\n",
    "'No. of Reigns' : [2,2,np.NaN,4,2,np.NaN,1,6,np.NaN,4,1,9,np.NaN,3,6,1,8,1,4,9],\n",
    "'Longest Reign' : [371,763,248,224,np.NaN,434,358,1474,np.NaN,126,1027,203,371,231,175,296,119,293,133,210],\n",
    "'Combined Days' : ['NA',2138,654,579,'4040 days',462,358,2185,1254,297,1027,658,520,396,529,296,367,293,np.NaN,609],\n",
    "'Billed From' : ['Gainesville, Georgia','Princeton, Minnesota', 'Calgary, Alberta, Canada','Minneapolis, Minnesota','Abruzzo, Italy','Chicago, Illinois','Detroit, Michigan','Venice Beach, California','West Newbury, Massachusetts','Pittsburgh, Pennsylvania','Culebra, Puerto Rico','St. Louis, Missouri','Sarasota, Florida','San Antonio, Texas','Victoria, Texas','Paradise Valley, Arizona','Miami, Florida','Parts Unknown','Death Valley','Greenwich, Connecticut'],\n",
    "'Billed Weight':['218 lb', '234 lb', '235 lb', '286 lb',265, '218 lb','328 lb', '302 lb','251 lb', '237 lb', '240 lb', '250 lb' , '237 lb', '225 lb', '252 lb', '275 lb', '260 lb', '280 lb','309 lb', '255 lb']}"
   ]
  },
  {
   "cell_type": "markdown",
   "metadata": {},
   "source": [
    "# Assign your DataFrame to a variable called your MAC270"
   ]
  },
  {
   "cell_type": "code",
   "execution_count": 131,
   "metadata": {},
   "outputs": [],
   "source": [
    "MAC270 = pd.DataFrame(DataFrame,columns = ['WWE Champion', 'No. of Reigns', 'Longest Reign', 'Combined Days', 'Billed From','Billed Weight'])"
   ]
  },
  {
   "cell_type": "code",
   "execution_count": 132,
   "metadata": {},
   "outputs": [
    {
     "data": {
      "text/html": [
       "<div>\n",
       "<style scoped>\n",
       "    .dataframe tbody tr th:only-of-type {\n",
       "        vertical-align: middle;\n",
       "    }\n",
       "\n",
       "    .dataframe tbody tr th {\n",
       "        vertical-align: top;\n",
       "    }\n",
       "\n",
       "    .dataframe thead th {\n",
       "        text-align: right;\n",
       "    }\n",
       "</style>\n",
       "<table border=\"1\" class=\"dataframe\">\n",
       "  <thead>\n",
       "    <tr style=\"text-align: right;\">\n",
       "      <th></th>\n",
       "      <th>WWE Champion</th>\n",
       "      <th>No. of Reigns</th>\n",
       "      <th>Longest Reign</th>\n",
       "      <th>Combined Days</th>\n",
       "      <th>Billed From</th>\n",
       "      <th>Billed Weight</th>\n",
       "    </tr>\n",
       "  </thead>\n",
       "  <tbody>\n",
       "    <tr>\n",
       "      <th>0</th>\n",
       "      <td>AJ Styles</td>\n",
       "      <td>2.0</td>\n",
       "      <td>371.0</td>\n",
       "      <td>NA</td>\n",
       "      <td>Gainesville, Georgia</td>\n",
       "      <td>218 lb</td>\n",
       "    </tr>\n",
       "    <tr>\n",
       "      <th>1</th>\n",
       "      <td>Bob Backlund</td>\n",
       "      <td>2.0</td>\n",
       "      <td>763.0</td>\n",
       "      <td>2138</td>\n",
       "      <td>Princeton, Minnesota</td>\n",
       "      <td>234 lb</td>\n",
       "    </tr>\n",
       "    <tr>\n",
       "      <th>2</th>\n",
       "      <td>Bret Hart</td>\n",
       "      <td>NaN</td>\n",
       "      <td>248.0</td>\n",
       "      <td>654</td>\n",
       "      <td>Calgary, Alberta, Canada</td>\n",
       "      <td>235 lb</td>\n",
       "    </tr>\n",
       "    <tr>\n",
       "      <th>3</th>\n",
       "      <td>Brock Lesnar</td>\n",
       "      <td>4.0</td>\n",
       "      <td>224.0</td>\n",
       "      <td>579</td>\n",
       "      <td>Minneapolis, Minnesota</td>\n",
       "      <td>286 lb</td>\n",
       "    </tr>\n",
       "    <tr>\n",
       "      <th>4</th>\n",
       "      <td>Bruno Sammartino</td>\n",
       "      <td>2.0</td>\n",
       "      <td>NaN</td>\n",
       "      <td>4040 days</td>\n",
       "      <td>Abruzzo, Italy</td>\n",
       "      <td>265</td>\n",
       "    </tr>\n",
       "    <tr>\n",
       "      <th>5</th>\n",
       "      <td>CM Punk</td>\n",
       "      <td>NaN</td>\n",
       "      <td>434.0</td>\n",
       "      <td>462</td>\n",
       "      <td>Chicago, Illinois</td>\n",
       "      <td>218 lb</td>\n",
       "    </tr>\n",
       "    <tr>\n",
       "      <th>6</th>\n",
       "      <td>Diesel</td>\n",
       "      <td>1.0</td>\n",
       "      <td>358.0</td>\n",
       "      <td>358</td>\n",
       "      <td>Detroit, Michigan</td>\n",
       "      <td>328 lb</td>\n",
       "    </tr>\n",
       "    <tr>\n",
       "      <th>7</th>\n",
       "      <td>Hulk Hogan</td>\n",
       "      <td>6.0</td>\n",
       "      <td>1474.0</td>\n",
       "      <td>2185</td>\n",
       "      <td>Venice Beach, California</td>\n",
       "      <td>302 lb</td>\n",
       "    </tr>\n",
       "    <tr>\n",
       "      <th>8</th>\n",
       "      <td>John Cena</td>\n",
       "      <td>NaN</td>\n",
       "      <td>NaN</td>\n",
       "      <td>1254</td>\n",
       "      <td>West Newbury, Massachusetts</td>\n",
       "      <td>251 lb</td>\n",
       "    </tr>\n",
       "    <tr>\n",
       "      <th>9</th>\n",
       "      <td>Kurt Angle</td>\n",
       "      <td>4.0</td>\n",
       "      <td>126.0</td>\n",
       "      <td>297</td>\n",
       "      <td>Pittsburgh, Pennsylvania</td>\n",
       "      <td>237 lb</td>\n",
       "    </tr>\n",
       "    <tr>\n",
       "      <th>10</th>\n",
       "      <td>Pedro Morales</td>\n",
       "      <td>1.0</td>\n",
       "      <td>1027.0</td>\n",
       "      <td>1027</td>\n",
       "      <td>Culebra, Puerto Rico</td>\n",
       "      <td>240 lb</td>\n",
       "    </tr>\n",
       "    <tr>\n",
       "      <th>11</th>\n",
       "      <td>Randy Savage</td>\n",
       "      <td>9.0</td>\n",
       "      <td>203.0</td>\n",
       "      <td>658</td>\n",
       "      <td>St. Louis, Missouri</td>\n",
       "      <td>250 lb</td>\n",
       "    </tr>\n",
       "    <tr>\n",
       "      <th>12</th>\n",
       "      <td>Randy Orton</td>\n",
       "      <td>NaN</td>\n",
       "      <td>371.0</td>\n",
       "      <td>520</td>\n",
       "      <td>Sarasota, Florida</td>\n",
       "      <td>237 lb</td>\n",
       "    </tr>\n",
       "    <tr>\n",
       "      <th>13</th>\n",
       "      <td>Shawn Michaels</td>\n",
       "      <td>3.0</td>\n",
       "      <td>231.0</td>\n",
       "      <td>396</td>\n",
       "      <td>San Antonio, Texas</td>\n",
       "      <td>225 lb</td>\n",
       "    </tr>\n",
       "    <tr>\n",
       "      <th>14</th>\n",
       "      <td>Stone Cold Steve Austin</td>\n",
       "      <td>6.0</td>\n",
       "      <td>175.0</td>\n",
       "      <td>529</td>\n",
       "      <td>Victoria, Texas</td>\n",
       "      <td>252 lb</td>\n",
       "    </tr>\n",
       "    <tr>\n",
       "      <th>15</th>\n",
       "      <td>Superstar Billy Graham</td>\n",
       "      <td>1.0</td>\n",
       "      <td>296.0</td>\n",
       "      <td>296</td>\n",
       "      <td>Paradise Valley, Arizona</td>\n",
       "      <td>275 lb</td>\n",
       "    </tr>\n",
       "    <tr>\n",
       "      <th>16</th>\n",
       "      <td>The Rock</td>\n",
       "      <td>8.0</td>\n",
       "      <td>119.0</td>\n",
       "      <td>367</td>\n",
       "      <td>Miami, Florida</td>\n",
       "      <td>260 lb</td>\n",
       "    </tr>\n",
       "    <tr>\n",
       "      <th>17</th>\n",
       "      <td>The Ultimate Warrior</td>\n",
       "      <td>1.0</td>\n",
       "      <td>293.0</td>\n",
       "      <td>293</td>\n",
       "      <td>Parts Unknown</td>\n",
       "      <td>280 lb</td>\n",
       "    </tr>\n",
       "    <tr>\n",
       "      <th>18</th>\n",
       "      <td>The Undertaker</td>\n",
       "      <td>4.0</td>\n",
       "      <td>133.0</td>\n",
       "      <td>NaN</td>\n",
       "      <td>Death Valley</td>\n",
       "      <td>309 lb</td>\n",
       "    </tr>\n",
       "    <tr>\n",
       "      <th>19</th>\n",
       "      <td>Triple H</td>\n",
       "      <td>9.0</td>\n",
       "      <td>210.0</td>\n",
       "      <td>609</td>\n",
       "      <td>Greenwich, Connecticut</td>\n",
       "      <td>255 lb</td>\n",
       "    </tr>\n",
       "  </tbody>\n",
       "</table>\n",
       "</div>"
      ],
      "text/plain": [
       "               WWE Champion  No. of Reigns  Longest Reign Combined Days  \\\n",
       "0                 AJ Styles            2.0          371.0            NA   \n",
       "1              Bob Backlund            2.0          763.0          2138   \n",
       "2                 Bret Hart            NaN          248.0           654   \n",
       "3              Brock Lesnar            4.0          224.0           579   \n",
       "4          Bruno Sammartino            2.0            NaN     4040 days   \n",
       "5                   CM Punk            NaN          434.0           462   \n",
       "6                    Diesel            1.0          358.0           358   \n",
       "7                Hulk Hogan            6.0         1474.0          2185   \n",
       "8                 John Cena            NaN            NaN          1254   \n",
       "9                Kurt Angle            4.0          126.0           297   \n",
       "10            Pedro Morales            1.0         1027.0          1027   \n",
       "11             Randy Savage            9.0          203.0           658   \n",
       "12              Randy Orton            NaN          371.0           520   \n",
       "13           Shawn Michaels            3.0          231.0           396   \n",
       "14  Stone Cold Steve Austin            6.0          175.0           529   \n",
       "15   Superstar Billy Graham            1.0          296.0           296   \n",
       "16                 The Rock            8.0          119.0           367   \n",
       "17     The Ultimate Warrior            1.0          293.0           293   \n",
       "18           The Undertaker            4.0          133.0           NaN   \n",
       "19                 Triple H            9.0          210.0           609   \n",
       "\n",
       "                    Billed From Billed Weight  \n",
       "0          Gainesville, Georgia        218 lb  \n",
       "1          Princeton, Minnesota        234 lb  \n",
       "2      Calgary, Alberta, Canada        235 lb  \n",
       "3        Minneapolis, Minnesota        286 lb  \n",
       "4                Abruzzo, Italy           265  \n",
       "5             Chicago, Illinois        218 lb  \n",
       "6             Detroit, Michigan        328 lb  \n",
       "7      Venice Beach, California        302 lb  \n",
       "8   West Newbury, Massachusetts        251 lb  \n",
       "9      Pittsburgh, Pennsylvania        237 lb  \n",
       "10         Culebra, Puerto Rico        240 lb  \n",
       "11          St. Louis, Missouri        250 lb  \n",
       "12            Sarasota, Florida        237 lb  \n",
       "13           San Antonio, Texas        225 lb  \n",
       "14              Victoria, Texas        252 lb  \n",
       "15     Paradise Valley, Arizona        275 lb  \n",
       "16               Miami, Florida        260 lb  \n",
       "17                Parts Unknown        280 lb  \n",
       "18                 Death Valley        309 lb  \n",
       "19       Greenwich, Connecticut        255 lb  "
      ]
     },
     "execution_count": 132,
     "metadata": {},
     "output_type": "execute_result"
    }
   ],
   "source": [
    "MAC270"
   ]
  },
  {
   "cell_type": "markdown",
   "metadata": {},
   "source": [
    "# Show how many rows and how many columns"
   ]
  },
  {
   "cell_type": "code",
   "execution_count": 133,
   "metadata": {},
   "outputs": [
    {
     "data": {
      "text/plain": [
       "(20, 6)"
      ]
     },
     "execution_count": 133,
     "metadata": {},
     "output_type": "execute_result"
    }
   ],
   "source": [
    "MAC270.shape"
   ]
  },
  {
   "cell_type": "markdown",
   "metadata": {},
   "source": [
    "# Show only the name of your columns"
   ]
  },
  {
   "cell_type": "code",
   "execution_count": 134,
   "metadata": {},
   "outputs": [
    {
     "data": {
      "text/plain": [
       "Index(['WWE Champion', 'No. of Reigns', 'Longest Reign', 'Combined Days',\n",
       "       'Billed From', 'Billed Weight'],\n",
       "      dtype='object')"
      ]
     },
     "execution_count": 134,
     "metadata": {},
     "output_type": "execute_result"
    }
   ],
   "source": [
    "MAC270.columns"
   ]
  },
  {
   "cell_type": "markdown",
   "metadata": {},
   "source": [
    "# Show only the name of your rows"
   ]
  },
  {
   "cell_type": "code",
   "execution_count": 135,
   "metadata": {},
   "outputs": [
    {
     "data": {
      "text/plain": [
       "0                   AJ Styles\n",
       "1                Bob Backlund\n",
       "2                   Bret Hart\n",
       "3                Brock Lesnar\n",
       "4            Bruno Sammartino\n",
       "5                     CM Punk\n",
       "6                      Diesel\n",
       "7                  Hulk Hogan\n",
       "8                   John Cena\n",
       "9                  Kurt Angle\n",
       "10              Pedro Morales\n",
       "11               Randy Savage\n",
       "12                Randy Orton\n",
       "13             Shawn Michaels\n",
       "14    Stone Cold Steve Austin\n",
       "15     Superstar Billy Graham\n",
       "16                   The Rock\n",
       "17       The Ultimate Warrior\n",
       "18             The Undertaker\n",
       "19                   Triple H\n",
       "Name: WWE Champion, dtype: object"
      ]
     },
     "execution_count": 135,
     "metadata": {},
     "output_type": "execute_result"
    }
   ],
   "source": [
    "MAC270['WWE Champion']"
   ]
  },
  {
   "cell_type": "markdown",
   "metadata": {},
   "source": [
    "# Show only the three first rows"
   ]
  },
  {
   "cell_type": "code",
   "execution_count": 136,
   "metadata": {},
   "outputs": [
    {
     "data": {
      "text/html": [
       "<div>\n",
       "<style scoped>\n",
       "    .dataframe tbody tr th:only-of-type {\n",
       "        vertical-align: middle;\n",
       "    }\n",
       "\n",
       "    .dataframe tbody tr th {\n",
       "        vertical-align: top;\n",
       "    }\n",
       "\n",
       "    .dataframe thead th {\n",
       "        text-align: right;\n",
       "    }\n",
       "</style>\n",
       "<table border=\"1\" class=\"dataframe\">\n",
       "  <thead>\n",
       "    <tr style=\"text-align: right;\">\n",
       "      <th></th>\n",
       "      <th>WWE Champion</th>\n",
       "      <th>No. of Reigns</th>\n",
       "      <th>Longest Reign</th>\n",
       "      <th>Combined Days</th>\n",
       "      <th>Billed From</th>\n",
       "      <th>Billed Weight</th>\n",
       "    </tr>\n",
       "  </thead>\n",
       "  <tbody>\n",
       "    <tr>\n",
       "      <th>0</th>\n",
       "      <td>AJ Styles</td>\n",
       "      <td>2.0</td>\n",
       "      <td>371.0</td>\n",
       "      <td>NA</td>\n",
       "      <td>Gainesville, Georgia</td>\n",
       "      <td>218 lb</td>\n",
       "    </tr>\n",
       "    <tr>\n",
       "      <th>1</th>\n",
       "      <td>Bob Backlund</td>\n",
       "      <td>2.0</td>\n",
       "      <td>763.0</td>\n",
       "      <td>2138</td>\n",
       "      <td>Princeton, Minnesota</td>\n",
       "      <td>234 lb</td>\n",
       "    </tr>\n",
       "    <tr>\n",
       "      <th>2</th>\n",
       "      <td>Bret Hart</td>\n",
       "      <td>NaN</td>\n",
       "      <td>248.0</td>\n",
       "      <td>654</td>\n",
       "      <td>Calgary, Alberta, Canada</td>\n",
       "      <td>235 lb</td>\n",
       "    </tr>\n",
       "  </tbody>\n",
       "</table>\n",
       "</div>"
      ],
      "text/plain": [
       "   WWE Champion  No. of Reigns  Longest Reign Combined Days  \\\n",
       "0     AJ Styles            2.0          371.0            NA   \n",
       "1  Bob Backlund            2.0          763.0          2138   \n",
       "2     Bret Hart            NaN          248.0           654   \n",
       "\n",
       "                Billed From Billed Weight  \n",
       "0      Gainesville, Georgia        218 lb  \n",
       "1      Princeton, Minnesota        234 lb  \n",
       "2  Calgary, Alberta, Canada        235 lb  "
      ]
     },
     "execution_count": 136,
     "metadata": {},
     "output_type": "execute_result"
    }
   ],
   "source": [
    "MAC270.head(3)"
   ]
  },
  {
   "cell_type": "markdown",
   "metadata": {},
   "source": [
    "# Show the last rows of your DataFrame"
   ]
  },
  {
   "cell_type": "code",
   "execution_count": 137,
   "metadata": {},
   "outputs": [
    {
     "data": {
      "text/html": [
       "<div>\n",
       "<style scoped>\n",
       "    .dataframe tbody tr th:only-of-type {\n",
       "        vertical-align: middle;\n",
       "    }\n",
       "\n",
       "    .dataframe tbody tr th {\n",
       "        vertical-align: top;\n",
       "    }\n",
       "\n",
       "    .dataframe thead th {\n",
       "        text-align: right;\n",
       "    }\n",
       "</style>\n",
       "<table border=\"1\" class=\"dataframe\">\n",
       "  <thead>\n",
       "    <tr style=\"text-align: right;\">\n",
       "      <th></th>\n",
       "      <th>WWE Champion</th>\n",
       "      <th>No. of Reigns</th>\n",
       "      <th>Longest Reign</th>\n",
       "      <th>Combined Days</th>\n",
       "      <th>Billed From</th>\n",
       "      <th>Billed Weight</th>\n",
       "    </tr>\n",
       "  </thead>\n",
       "  <tbody>\n",
       "    <tr>\n",
       "      <th>15</th>\n",
       "      <td>Superstar Billy Graham</td>\n",
       "      <td>1.0</td>\n",
       "      <td>296.0</td>\n",
       "      <td>296</td>\n",
       "      <td>Paradise Valley, Arizona</td>\n",
       "      <td>275 lb</td>\n",
       "    </tr>\n",
       "    <tr>\n",
       "      <th>16</th>\n",
       "      <td>The Rock</td>\n",
       "      <td>8.0</td>\n",
       "      <td>119.0</td>\n",
       "      <td>367</td>\n",
       "      <td>Miami, Florida</td>\n",
       "      <td>260 lb</td>\n",
       "    </tr>\n",
       "    <tr>\n",
       "      <th>17</th>\n",
       "      <td>The Ultimate Warrior</td>\n",
       "      <td>1.0</td>\n",
       "      <td>293.0</td>\n",
       "      <td>293</td>\n",
       "      <td>Parts Unknown</td>\n",
       "      <td>280 lb</td>\n",
       "    </tr>\n",
       "    <tr>\n",
       "      <th>18</th>\n",
       "      <td>The Undertaker</td>\n",
       "      <td>4.0</td>\n",
       "      <td>133.0</td>\n",
       "      <td>NaN</td>\n",
       "      <td>Death Valley</td>\n",
       "      <td>309 lb</td>\n",
       "    </tr>\n",
       "    <tr>\n",
       "      <th>19</th>\n",
       "      <td>Triple H</td>\n",
       "      <td>9.0</td>\n",
       "      <td>210.0</td>\n",
       "      <td>609</td>\n",
       "      <td>Greenwich, Connecticut</td>\n",
       "      <td>255 lb</td>\n",
       "    </tr>\n",
       "  </tbody>\n",
       "</table>\n",
       "</div>"
      ],
      "text/plain": [
       "              WWE Champion  No. of Reigns  Longest Reign Combined Days  \\\n",
       "15  Superstar Billy Graham            1.0          296.0           296   \n",
       "16                The Rock            8.0          119.0           367   \n",
       "17    The Ultimate Warrior            1.0          293.0           293   \n",
       "18          The Undertaker            4.0          133.0           NaN   \n",
       "19                Triple H            9.0          210.0           609   \n",
       "\n",
       "                 Billed From Billed Weight  \n",
       "15  Paradise Valley, Arizona        275 lb  \n",
       "16            Miami, Florida        260 lb  \n",
       "17             Parts Unknown        280 lb  \n",
       "18              Death Valley        309 lb  \n",
       "19    Greenwich, Connecticut        255 lb  "
      ]
     },
     "execution_count": 137,
     "metadata": {},
     "output_type": "execute_result"
    }
   ],
   "source": [
    "MAC270.tail()"
   ]
  },
  {
   "cell_type": "markdown",
   "metadata": {},
   "source": [
    "# Add another column call it new_col and insert what you see appropriate with your dictionary data"
   ]
  },
  {
   "cell_type": "code",
   "execution_count": 138,
   "metadata": {},
   "outputs": [],
   "source": [
    "def more365(qw):\n",
    "    return qw > 365\n",
    "\n"
   ]
  },
  {
   "cell_type": "code",
   "execution_count": 139,
   "metadata": {},
   "outputs": [],
   "source": [
    "MAC270['new_col'] = MAC270.apply(lambda row: more365(row['Longest Reign']),axis = 1)"
   ]
  },
  {
   "cell_type": "code",
   "execution_count": 140,
   "metadata": {
    "scrolled": true
   },
   "outputs": [
    {
     "data": {
      "text/html": [
       "<div>\n",
       "<style scoped>\n",
       "    .dataframe tbody tr th:only-of-type {\n",
       "        vertical-align: middle;\n",
       "    }\n",
       "\n",
       "    .dataframe tbody tr th {\n",
       "        vertical-align: top;\n",
       "    }\n",
       "\n",
       "    .dataframe thead th {\n",
       "        text-align: right;\n",
       "    }\n",
       "</style>\n",
       "<table border=\"1\" class=\"dataframe\">\n",
       "  <thead>\n",
       "    <tr style=\"text-align: right;\">\n",
       "      <th></th>\n",
       "      <th>WWE Champion</th>\n",
       "      <th>No. of Reigns</th>\n",
       "      <th>Longest Reign</th>\n",
       "      <th>Combined Days</th>\n",
       "      <th>Billed From</th>\n",
       "      <th>Billed Weight</th>\n",
       "      <th>new_col</th>\n",
       "    </tr>\n",
       "  </thead>\n",
       "  <tbody>\n",
       "    <tr>\n",
       "      <th>0</th>\n",
       "      <td>AJ Styles</td>\n",
       "      <td>2.0</td>\n",
       "      <td>371.0</td>\n",
       "      <td>NA</td>\n",
       "      <td>Gainesville, Georgia</td>\n",
       "      <td>218 lb</td>\n",
       "      <td>True</td>\n",
       "    </tr>\n",
       "    <tr>\n",
       "      <th>1</th>\n",
       "      <td>Bob Backlund</td>\n",
       "      <td>2.0</td>\n",
       "      <td>763.0</td>\n",
       "      <td>2138</td>\n",
       "      <td>Princeton, Minnesota</td>\n",
       "      <td>234 lb</td>\n",
       "      <td>True</td>\n",
       "    </tr>\n",
       "    <tr>\n",
       "      <th>2</th>\n",
       "      <td>Bret Hart</td>\n",
       "      <td>NaN</td>\n",
       "      <td>248.0</td>\n",
       "      <td>654</td>\n",
       "      <td>Calgary, Alberta, Canada</td>\n",
       "      <td>235 lb</td>\n",
       "      <td>False</td>\n",
       "    </tr>\n",
       "    <tr>\n",
       "      <th>3</th>\n",
       "      <td>Brock Lesnar</td>\n",
       "      <td>4.0</td>\n",
       "      <td>224.0</td>\n",
       "      <td>579</td>\n",
       "      <td>Minneapolis, Minnesota</td>\n",
       "      <td>286 lb</td>\n",
       "      <td>False</td>\n",
       "    </tr>\n",
       "    <tr>\n",
       "      <th>4</th>\n",
       "      <td>Bruno Sammartino</td>\n",
       "      <td>2.0</td>\n",
       "      <td>NaN</td>\n",
       "      <td>4040 days</td>\n",
       "      <td>Abruzzo, Italy</td>\n",
       "      <td>265</td>\n",
       "      <td>False</td>\n",
       "    </tr>\n",
       "    <tr>\n",
       "      <th>5</th>\n",
       "      <td>CM Punk</td>\n",
       "      <td>NaN</td>\n",
       "      <td>434.0</td>\n",
       "      <td>462</td>\n",
       "      <td>Chicago, Illinois</td>\n",
       "      <td>218 lb</td>\n",
       "      <td>True</td>\n",
       "    </tr>\n",
       "    <tr>\n",
       "      <th>6</th>\n",
       "      <td>Diesel</td>\n",
       "      <td>1.0</td>\n",
       "      <td>358.0</td>\n",
       "      <td>358</td>\n",
       "      <td>Detroit, Michigan</td>\n",
       "      <td>328 lb</td>\n",
       "      <td>False</td>\n",
       "    </tr>\n",
       "    <tr>\n",
       "      <th>7</th>\n",
       "      <td>Hulk Hogan</td>\n",
       "      <td>6.0</td>\n",
       "      <td>1474.0</td>\n",
       "      <td>2185</td>\n",
       "      <td>Venice Beach, California</td>\n",
       "      <td>302 lb</td>\n",
       "      <td>True</td>\n",
       "    </tr>\n",
       "    <tr>\n",
       "      <th>8</th>\n",
       "      <td>John Cena</td>\n",
       "      <td>NaN</td>\n",
       "      <td>NaN</td>\n",
       "      <td>1254</td>\n",
       "      <td>West Newbury, Massachusetts</td>\n",
       "      <td>251 lb</td>\n",
       "      <td>False</td>\n",
       "    </tr>\n",
       "    <tr>\n",
       "      <th>9</th>\n",
       "      <td>Kurt Angle</td>\n",
       "      <td>4.0</td>\n",
       "      <td>126.0</td>\n",
       "      <td>297</td>\n",
       "      <td>Pittsburgh, Pennsylvania</td>\n",
       "      <td>237 lb</td>\n",
       "      <td>False</td>\n",
       "    </tr>\n",
       "    <tr>\n",
       "      <th>10</th>\n",
       "      <td>Pedro Morales</td>\n",
       "      <td>1.0</td>\n",
       "      <td>1027.0</td>\n",
       "      <td>1027</td>\n",
       "      <td>Culebra, Puerto Rico</td>\n",
       "      <td>240 lb</td>\n",
       "      <td>True</td>\n",
       "    </tr>\n",
       "    <tr>\n",
       "      <th>11</th>\n",
       "      <td>Randy Savage</td>\n",
       "      <td>9.0</td>\n",
       "      <td>203.0</td>\n",
       "      <td>658</td>\n",
       "      <td>St. Louis, Missouri</td>\n",
       "      <td>250 lb</td>\n",
       "      <td>False</td>\n",
       "    </tr>\n",
       "    <tr>\n",
       "      <th>12</th>\n",
       "      <td>Randy Orton</td>\n",
       "      <td>NaN</td>\n",
       "      <td>371.0</td>\n",
       "      <td>520</td>\n",
       "      <td>Sarasota, Florida</td>\n",
       "      <td>237 lb</td>\n",
       "      <td>True</td>\n",
       "    </tr>\n",
       "    <tr>\n",
       "      <th>13</th>\n",
       "      <td>Shawn Michaels</td>\n",
       "      <td>3.0</td>\n",
       "      <td>231.0</td>\n",
       "      <td>396</td>\n",
       "      <td>San Antonio, Texas</td>\n",
       "      <td>225 lb</td>\n",
       "      <td>False</td>\n",
       "    </tr>\n",
       "    <tr>\n",
       "      <th>14</th>\n",
       "      <td>Stone Cold Steve Austin</td>\n",
       "      <td>6.0</td>\n",
       "      <td>175.0</td>\n",
       "      <td>529</td>\n",
       "      <td>Victoria, Texas</td>\n",
       "      <td>252 lb</td>\n",
       "      <td>False</td>\n",
       "    </tr>\n",
       "    <tr>\n",
       "      <th>15</th>\n",
       "      <td>Superstar Billy Graham</td>\n",
       "      <td>1.0</td>\n",
       "      <td>296.0</td>\n",
       "      <td>296</td>\n",
       "      <td>Paradise Valley, Arizona</td>\n",
       "      <td>275 lb</td>\n",
       "      <td>False</td>\n",
       "    </tr>\n",
       "    <tr>\n",
       "      <th>16</th>\n",
       "      <td>The Rock</td>\n",
       "      <td>8.0</td>\n",
       "      <td>119.0</td>\n",
       "      <td>367</td>\n",
       "      <td>Miami, Florida</td>\n",
       "      <td>260 lb</td>\n",
       "      <td>False</td>\n",
       "    </tr>\n",
       "    <tr>\n",
       "      <th>17</th>\n",
       "      <td>The Ultimate Warrior</td>\n",
       "      <td>1.0</td>\n",
       "      <td>293.0</td>\n",
       "      <td>293</td>\n",
       "      <td>Parts Unknown</td>\n",
       "      <td>280 lb</td>\n",
       "      <td>False</td>\n",
       "    </tr>\n",
       "    <tr>\n",
       "      <th>18</th>\n",
       "      <td>The Undertaker</td>\n",
       "      <td>4.0</td>\n",
       "      <td>133.0</td>\n",
       "      <td>NaN</td>\n",
       "      <td>Death Valley</td>\n",
       "      <td>309 lb</td>\n",
       "      <td>False</td>\n",
       "    </tr>\n",
       "    <tr>\n",
       "      <th>19</th>\n",
       "      <td>Triple H</td>\n",
       "      <td>9.0</td>\n",
       "      <td>210.0</td>\n",
       "      <td>609</td>\n",
       "      <td>Greenwich, Connecticut</td>\n",
       "      <td>255 lb</td>\n",
       "      <td>False</td>\n",
       "    </tr>\n",
       "  </tbody>\n",
       "</table>\n",
       "</div>"
      ],
      "text/plain": [
       "               WWE Champion  No. of Reigns  Longest Reign Combined Days  \\\n",
       "0                 AJ Styles            2.0          371.0            NA   \n",
       "1              Bob Backlund            2.0          763.0          2138   \n",
       "2                 Bret Hart            NaN          248.0           654   \n",
       "3              Brock Lesnar            4.0          224.0           579   \n",
       "4          Bruno Sammartino            2.0            NaN     4040 days   \n",
       "5                   CM Punk            NaN          434.0           462   \n",
       "6                    Diesel            1.0          358.0           358   \n",
       "7                Hulk Hogan            6.0         1474.0          2185   \n",
       "8                 John Cena            NaN            NaN          1254   \n",
       "9                Kurt Angle            4.0          126.0           297   \n",
       "10            Pedro Morales            1.0         1027.0          1027   \n",
       "11             Randy Savage            9.0          203.0           658   \n",
       "12              Randy Orton            NaN          371.0           520   \n",
       "13           Shawn Michaels            3.0          231.0           396   \n",
       "14  Stone Cold Steve Austin            6.0          175.0           529   \n",
       "15   Superstar Billy Graham            1.0          296.0           296   \n",
       "16                 The Rock            8.0          119.0           367   \n",
       "17     The Ultimate Warrior            1.0          293.0           293   \n",
       "18           The Undertaker            4.0          133.0           NaN   \n",
       "19                 Triple H            9.0          210.0           609   \n",
       "\n",
       "                    Billed From Billed Weight  new_col  \n",
       "0          Gainesville, Georgia        218 lb     True  \n",
       "1          Princeton, Minnesota        234 lb     True  \n",
       "2      Calgary, Alberta, Canada        235 lb    False  \n",
       "3        Minneapolis, Minnesota        286 lb    False  \n",
       "4                Abruzzo, Italy           265    False  \n",
       "5             Chicago, Illinois        218 lb     True  \n",
       "6             Detroit, Michigan        328 lb    False  \n",
       "7      Venice Beach, California        302 lb     True  \n",
       "8   West Newbury, Massachusetts        251 lb    False  \n",
       "9      Pittsburgh, Pennsylvania        237 lb    False  \n",
       "10         Culebra, Puerto Rico        240 lb     True  \n",
       "11          St. Louis, Missouri        250 lb    False  \n",
       "12            Sarasota, Florida        237 lb     True  \n",
       "13           San Antonio, Texas        225 lb    False  \n",
       "14              Victoria, Texas        252 lb    False  \n",
       "15     Paradise Valley, Arizona        275 lb    False  \n",
       "16               Miami, Florida        260 lb    False  \n",
       "17                Parts Unknown        280 lb    False  \n",
       "18                 Death Valley        309 lb    False  \n",
       "19       Greenwich, Connecticut        255 lb    False  "
      ]
     },
     "execution_count": 140,
     "metadata": {},
     "output_type": "execute_result"
    }
   ],
   "source": [
    "MAC270"
   ]
  },
  {
   "cell_type": "markdown",
   "metadata": {},
   "source": [
    "# Present the type of each column"
   ]
  },
  {
   "cell_type": "code",
   "execution_count": 141,
   "metadata": {},
   "outputs": [
    {
     "data": {
      "text/plain": [
       "WWE Champion      object\n",
       "No. of Reigns    float64\n",
       "Longest Reign    float64\n",
       "Combined Days     object\n",
       "Billed From       object\n",
       "Billed Weight     object\n",
       "new_col             bool\n",
       "dtype: object"
      ]
     },
     "execution_count": 141,
     "metadata": {},
     "output_type": "execute_result"
    }
   ],
   "source": [
    "MAC270.dtypes"
   ]
  },
  {
   "cell_type": "markdown",
   "metadata": {},
   "source": [
    "# Drop the column you added"
   ]
  },
  {
   "cell_type": "code",
   "execution_count": 142,
   "metadata": {},
   "outputs": [
    {
     "data": {
      "text/html": [
       "<div>\n",
       "<style scoped>\n",
       "    .dataframe tbody tr th:only-of-type {\n",
       "        vertical-align: middle;\n",
       "    }\n",
       "\n",
       "    .dataframe tbody tr th {\n",
       "        vertical-align: top;\n",
       "    }\n",
       "\n",
       "    .dataframe thead th {\n",
       "        text-align: right;\n",
       "    }\n",
       "</style>\n",
       "<table border=\"1\" class=\"dataframe\">\n",
       "  <thead>\n",
       "    <tr style=\"text-align: right;\">\n",
       "      <th></th>\n",
       "      <th>WWE Champion</th>\n",
       "      <th>No. of Reigns</th>\n",
       "      <th>Longest Reign</th>\n",
       "      <th>Combined Days</th>\n",
       "      <th>Billed From</th>\n",
       "      <th>Billed Weight</th>\n",
       "    </tr>\n",
       "  </thead>\n",
       "  <tbody>\n",
       "    <tr>\n",
       "      <th>0</th>\n",
       "      <td>AJ Styles</td>\n",
       "      <td>2.0</td>\n",
       "      <td>371.0</td>\n",
       "      <td>NA</td>\n",
       "      <td>Gainesville, Georgia</td>\n",
       "      <td>218 lb</td>\n",
       "    </tr>\n",
       "    <tr>\n",
       "      <th>1</th>\n",
       "      <td>Bob Backlund</td>\n",
       "      <td>2.0</td>\n",
       "      <td>763.0</td>\n",
       "      <td>2138</td>\n",
       "      <td>Princeton, Minnesota</td>\n",
       "      <td>234 lb</td>\n",
       "    </tr>\n",
       "    <tr>\n",
       "      <th>2</th>\n",
       "      <td>Bret Hart</td>\n",
       "      <td>NaN</td>\n",
       "      <td>248.0</td>\n",
       "      <td>654</td>\n",
       "      <td>Calgary, Alberta, Canada</td>\n",
       "      <td>235 lb</td>\n",
       "    </tr>\n",
       "    <tr>\n",
       "      <th>3</th>\n",
       "      <td>Brock Lesnar</td>\n",
       "      <td>4.0</td>\n",
       "      <td>224.0</td>\n",
       "      <td>579</td>\n",
       "      <td>Minneapolis, Minnesota</td>\n",
       "      <td>286 lb</td>\n",
       "    </tr>\n",
       "    <tr>\n",
       "      <th>4</th>\n",
       "      <td>Bruno Sammartino</td>\n",
       "      <td>2.0</td>\n",
       "      <td>NaN</td>\n",
       "      <td>4040 days</td>\n",
       "      <td>Abruzzo, Italy</td>\n",
       "      <td>265</td>\n",
       "    </tr>\n",
       "    <tr>\n",
       "      <th>5</th>\n",
       "      <td>CM Punk</td>\n",
       "      <td>NaN</td>\n",
       "      <td>434.0</td>\n",
       "      <td>462</td>\n",
       "      <td>Chicago, Illinois</td>\n",
       "      <td>218 lb</td>\n",
       "    </tr>\n",
       "    <tr>\n",
       "      <th>6</th>\n",
       "      <td>Diesel</td>\n",
       "      <td>1.0</td>\n",
       "      <td>358.0</td>\n",
       "      <td>358</td>\n",
       "      <td>Detroit, Michigan</td>\n",
       "      <td>328 lb</td>\n",
       "    </tr>\n",
       "    <tr>\n",
       "      <th>7</th>\n",
       "      <td>Hulk Hogan</td>\n",
       "      <td>6.0</td>\n",
       "      <td>1474.0</td>\n",
       "      <td>2185</td>\n",
       "      <td>Venice Beach, California</td>\n",
       "      <td>302 lb</td>\n",
       "    </tr>\n",
       "    <tr>\n",
       "      <th>8</th>\n",
       "      <td>John Cena</td>\n",
       "      <td>NaN</td>\n",
       "      <td>NaN</td>\n",
       "      <td>1254</td>\n",
       "      <td>West Newbury, Massachusetts</td>\n",
       "      <td>251 lb</td>\n",
       "    </tr>\n",
       "    <tr>\n",
       "      <th>9</th>\n",
       "      <td>Kurt Angle</td>\n",
       "      <td>4.0</td>\n",
       "      <td>126.0</td>\n",
       "      <td>297</td>\n",
       "      <td>Pittsburgh, Pennsylvania</td>\n",
       "      <td>237 lb</td>\n",
       "    </tr>\n",
       "    <tr>\n",
       "      <th>10</th>\n",
       "      <td>Pedro Morales</td>\n",
       "      <td>1.0</td>\n",
       "      <td>1027.0</td>\n",
       "      <td>1027</td>\n",
       "      <td>Culebra, Puerto Rico</td>\n",
       "      <td>240 lb</td>\n",
       "    </tr>\n",
       "    <tr>\n",
       "      <th>11</th>\n",
       "      <td>Randy Savage</td>\n",
       "      <td>9.0</td>\n",
       "      <td>203.0</td>\n",
       "      <td>658</td>\n",
       "      <td>St. Louis, Missouri</td>\n",
       "      <td>250 lb</td>\n",
       "    </tr>\n",
       "    <tr>\n",
       "      <th>12</th>\n",
       "      <td>Randy Orton</td>\n",
       "      <td>NaN</td>\n",
       "      <td>371.0</td>\n",
       "      <td>520</td>\n",
       "      <td>Sarasota, Florida</td>\n",
       "      <td>237 lb</td>\n",
       "    </tr>\n",
       "    <tr>\n",
       "      <th>13</th>\n",
       "      <td>Shawn Michaels</td>\n",
       "      <td>3.0</td>\n",
       "      <td>231.0</td>\n",
       "      <td>396</td>\n",
       "      <td>San Antonio, Texas</td>\n",
       "      <td>225 lb</td>\n",
       "    </tr>\n",
       "    <tr>\n",
       "      <th>14</th>\n",
       "      <td>Stone Cold Steve Austin</td>\n",
       "      <td>6.0</td>\n",
       "      <td>175.0</td>\n",
       "      <td>529</td>\n",
       "      <td>Victoria, Texas</td>\n",
       "      <td>252 lb</td>\n",
       "    </tr>\n",
       "    <tr>\n",
       "      <th>15</th>\n",
       "      <td>Superstar Billy Graham</td>\n",
       "      <td>1.0</td>\n",
       "      <td>296.0</td>\n",
       "      <td>296</td>\n",
       "      <td>Paradise Valley, Arizona</td>\n",
       "      <td>275 lb</td>\n",
       "    </tr>\n",
       "    <tr>\n",
       "      <th>16</th>\n",
       "      <td>The Rock</td>\n",
       "      <td>8.0</td>\n",
       "      <td>119.0</td>\n",
       "      <td>367</td>\n",
       "      <td>Miami, Florida</td>\n",
       "      <td>260 lb</td>\n",
       "    </tr>\n",
       "    <tr>\n",
       "      <th>17</th>\n",
       "      <td>The Ultimate Warrior</td>\n",
       "      <td>1.0</td>\n",
       "      <td>293.0</td>\n",
       "      <td>293</td>\n",
       "      <td>Parts Unknown</td>\n",
       "      <td>280 lb</td>\n",
       "    </tr>\n",
       "    <tr>\n",
       "      <th>18</th>\n",
       "      <td>The Undertaker</td>\n",
       "      <td>4.0</td>\n",
       "      <td>133.0</td>\n",
       "      <td>NaN</td>\n",
       "      <td>Death Valley</td>\n",
       "      <td>309 lb</td>\n",
       "    </tr>\n",
       "    <tr>\n",
       "      <th>19</th>\n",
       "      <td>Triple H</td>\n",
       "      <td>9.0</td>\n",
       "      <td>210.0</td>\n",
       "      <td>609</td>\n",
       "      <td>Greenwich, Connecticut</td>\n",
       "      <td>255 lb</td>\n",
       "    </tr>\n",
       "  </tbody>\n",
       "</table>\n",
       "</div>"
      ],
      "text/plain": [
       "               WWE Champion  No. of Reigns  Longest Reign Combined Days  \\\n",
       "0                 AJ Styles            2.0          371.0            NA   \n",
       "1              Bob Backlund            2.0          763.0          2138   \n",
       "2                 Bret Hart            NaN          248.0           654   \n",
       "3              Brock Lesnar            4.0          224.0           579   \n",
       "4          Bruno Sammartino            2.0            NaN     4040 days   \n",
       "5                   CM Punk            NaN          434.0           462   \n",
       "6                    Diesel            1.0          358.0           358   \n",
       "7                Hulk Hogan            6.0         1474.0          2185   \n",
       "8                 John Cena            NaN            NaN          1254   \n",
       "9                Kurt Angle            4.0          126.0           297   \n",
       "10            Pedro Morales            1.0         1027.0          1027   \n",
       "11             Randy Savage            9.0          203.0           658   \n",
       "12              Randy Orton            NaN          371.0           520   \n",
       "13           Shawn Michaels            3.0          231.0           396   \n",
       "14  Stone Cold Steve Austin            6.0          175.0           529   \n",
       "15   Superstar Billy Graham            1.0          296.0           296   \n",
       "16                 The Rock            8.0          119.0           367   \n",
       "17     The Ultimate Warrior            1.0          293.0           293   \n",
       "18           The Undertaker            4.0          133.0           NaN   \n",
       "19                 Triple H            9.0          210.0           609   \n",
       "\n",
       "                    Billed From Billed Weight  \n",
       "0          Gainesville, Georgia        218 lb  \n",
       "1          Princeton, Minnesota        234 lb  \n",
       "2      Calgary, Alberta, Canada        235 lb  \n",
       "3        Minneapolis, Minnesota        286 lb  \n",
       "4                Abruzzo, Italy           265  \n",
       "5             Chicago, Illinois        218 lb  \n",
       "6             Detroit, Michigan        328 lb  \n",
       "7      Venice Beach, California        302 lb  \n",
       "8   West Newbury, Massachusetts        251 lb  \n",
       "9      Pittsburgh, Pennsylvania        237 lb  \n",
       "10         Culebra, Puerto Rico        240 lb  \n",
       "11          St. Louis, Missouri        250 lb  \n",
       "12            Sarasota, Florida        237 lb  \n",
       "13           San Antonio, Texas        225 lb  \n",
       "14              Victoria, Texas        252 lb  \n",
       "15     Paradise Valley, Arizona        275 lb  \n",
       "16               Miami, Florida        260 lb  \n",
       "17                Parts Unknown        280 lb  \n",
       "18                 Death Valley        309 lb  \n",
       "19       Greenwich, Connecticut        255 lb  "
      ]
     },
     "execution_count": 142,
     "metadata": {},
     "output_type": "execute_result"
    }
   ],
   "source": [
    "MAC270.drop(columns=['new_col'])"
   ]
  },
  {
   "cell_type": "markdown",
   "metadata": {},
   "source": [
    "# Make a bar graph representing each WWE Champion and their number of title reigns"
   ]
  },
  {
   "cell_type": "code",
   "execution_count": 143,
   "metadata": {},
   "outputs": [
    {
     "data": {
      "text/plain": [
       "<BarContainer object of 20 artists>"
      ]
     },
     "execution_count": 143,
     "metadata": {},
     "output_type": "execute_result"
    },
    {
     "data": {
      "image/png": "[encoded data removed]",
      "text/plain": [
       "<Figure size 3600x1440 with 1 Axes>"
      ]
     },
     "metadata": {
      "needs_background": "light"
     },
     "output_type": "display_data"
    }
   ],
   "source": [
    "x = MAC270['WWE Champion']\n",
    "y = MAC270['No. of Reigns']\n",
    "plt.figure(figsize=(50,20))\n",
    "plt.bar(x,y)"
   ]
  },
  {
   "cell_type": "markdown",
   "metadata": {},
   "source": [
    "# Part 2 - Import the dataset from file on blackboard and assign your data to a variable called MAC270"
   ]
  },
  {
   "cell_type": "code",
   "execution_count": 144,
   "metadata": {},
   "outputs": [],
   "source": [
    "#File converted to csv file\n",
    "MAC270 = pd.read_csv('chipotle.csv')"
   ]
  },
  {
   "cell_type": "markdown",
   "metadata": {},
   "source": [
    "# Show the first 5 rows"
   ]
  },
  {
   "cell_type": "code",
   "execution_count": 145,
   "metadata": {},
   "outputs": [
    {
     "data": {
      "text/html": [
       "<div>\n",
       "<style scoped>\n",
       "    .dataframe tbody tr th:only-of-type {\n",
       "        vertical-align: middle;\n",
       "    }\n",
       "\n",
       "    .dataframe tbody tr th {\n",
       "        vertical-align: top;\n",
       "    }\n",
       "\n",
       "    .dataframe thead th {\n",
       "        text-align: right;\n",
       "    }\n",
       "</style>\n",
       "<table border=\"1\" class=\"dataframe\">\n",
       "  <thead>\n",
       "    <tr style=\"text-align: right;\">\n",
       "      <th></th>\n",
       "      <th>order_id</th>\n",
       "      <th>quantity</th>\n",
       "      <th>item_name</th>\n",
       "      <th>choice_description</th>\n",
       "      <th>item_price</th>\n",
       "    </tr>\n",
       "  </thead>\n",
       "  <tbody>\n",
       "    <tr>\n",
       "      <th>0</th>\n",
       "      <td>1</td>\n",
       "      <td>1</td>\n",
       "      <td>Chips and Fresh Tomato Salsa</td>\n",
       "      <td>NaN</td>\n",
       "      <td>$2.39</td>\n",
       "    </tr>\n",
       "    <tr>\n",
       "      <th>1</th>\n",
       "      <td>1</td>\n",
       "      <td>1</td>\n",
       "      <td>Izze</td>\n",
       "      <td>[Clementine]</td>\n",
       "      <td>$3.39</td>\n",
       "    </tr>\n",
       "    <tr>\n",
       "      <th>2</th>\n",
       "      <td>1</td>\n",
       "      <td>1</td>\n",
       "      <td>Nantucket Nectar</td>\n",
       "      <td>[Apple]</td>\n",
       "      <td>$3.39</td>\n",
       "    </tr>\n",
       "    <tr>\n",
       "      <th>3</th>\n",
       "      <td>1</td>\n",
       "      <td>1</td>\n",
       "      <td>Chips and Tomatillo-Green Chili Salsa</td>\n",
       "      <td>NaN</td>\n",
       "      <td>$2.39</td>\n",
       "    </tr>\n",
       "    <tr>\n",
       "      <th>4</th>\n",
       "      <td>2</td>\n",
       "      <td>2</td>\n",
       "      <td>Chicken Bowl</td>\n",
       "      <td>[Tomatillo-Red Chili Salsa (Hot), [Black Beans...</td>\n",
       "      <td>$16.98</td>\n",
       "    </tr>\n",
       "  </tbody>\n",
       "</table>\n",
       "</div>"
      ],
      "text/plain": [
       "   order_id  quantity                              item_name  \\\n",
       "0         1         1           Chips and Fresh Tomato Salsa   \n",
       "1         1         1                                   Izze   \n",
       "2         1         1                       Nantucket Nectar   \n",
       "3         1         1  Chips and Tomatillo-Green Chili Salsa   \n",
       "4         2         2                           Chicken Bowl   \n",
       "\n",
       "                                  choice_description item_price  \n",
       "0                                                NaN      $2.39  \n",
       "1                                       [Clementine]      $3.39  \n",
       "2                                            [Apple]      $3.39  \n",
       "3                                                NaN      $2.39  \n",
       "4  [Tomatillo-Red Chili Salsa (Hot), [Black Beans...     $16.98  "
      ]
     },
     "execution_count": 145,
     "metadata": {},
     "output_type": "execute_result"
    }
   ],
   "source": [
    "MAC270.head(5)"
   ]
  },
  {
   "cell_type": "markdown",
   "metadata": {},
   "source": [
    "# Create a bar graph of the top 5 items bought"
   ]
  },
  {
   "cell_type": "code",
   "execution_count": 146,
   "metadata": {},
   "outputs": [
    {
     "data": {
      "text/plain": [
       "<matplotlib.axes._subplots.AxesSubplot at 0x1cd858f9fd0>"
      ]
     },
     "execution_count": 146,
     "metadata": {},
     "output_type": "execute_result"
    },
    {
     "data": {
      "image/png": "[encoded data removed]",
      "text/plain": [
       "<Figure size 1152x360 with 1 Axes>"
      ]
     },
     "metadata": {
      "needs_background": "light"
     },
     "output_type": "display_data"
    }
   ],
   "source": [
    "MAC270.item_name.value_counts()[:5].plot(kind = 'bar', color = 'skyblue',figsize = (16,5))"
   ]
  },
  {
   "cell_type": "markdown",
   "metadata": {},
   "source": [
    "# Create a scatterplot with the number of items ordered per order price"
   ]
  },
  {
   "cell_type": "code",
   "execution_count": 147,
   "metadata": {},
   "outputs": [],
   "source": [
    "MAC270['item_price'] = MAC270['item_price'].str.replace('$','')\n",
    "MAC270['item_price'] = MAC270['item_price'].astype(float)\n",
    "x = MAC270['item_price']\n",
    "y = MAC270['quantity']"
   ]
  },
  {
   "cell_type": "code",
   "execution_count": 148,
   "metadata": {},
   "outputs": [
    {
     "data": {
      "text/plain": [
       "<matplotlib.collections.PathCollection at 0x1cd861431d0>"
      ]
     },
     "execution_count": 148,
     "metadata": {},
     "output_type": "execute_result"
    },
    {
     "data": {
      "image/png": "[encoded data removed]",
      "text/plain": [
       "<Figure size 1080x720 with 1 Axes>"
      ]
     },
     "metadata": {
      "needs_background": "light"
     },
     "output_type": "display_data"
    }
   ],
   "source": [
    "rcParams['figure.figsize'] = 15,10\n",
    "plt.title('Number of Items Ordered per Order Price')\n",
    "plt.ylabel('Number of items ordered')\n",
    "plt.xlabel('Order price')\n",
    "plt.scatter(x,y,marker = '.')"
   ]
  },
  {
   "cell_type": "markdown",
   "metadata": {},
   "source": [
    "# Create a bar graph of the bottom 5 items bought"
   ]
  },
  {
   "cell_type": "code",
   "execution_count": 149,
   "metadata": {},
   "outputs": [
    {
     "data": {
      "text/plain": [
       "<matplotlib.axes._subplots.AxesSubplot at 0x1cd861722e8>"
      ]
     },
     "execution_count": 149,
     "metadata": {},
     "output_type": "execute_result"
    },
    {
     "data": {
      "image/png": "[encoded data removed]",
      "text/plain": [
       "<Figure size 1152x360 with 1 Axes>"
      ]
     },
     "metadata": {
      "needs_background": "light"
     },
     "output_type": "display_data"
    }
   ],
   "source": [
    "MAC270.item_name.value_counts()[-5:].plot(kind = 'bar', color = 'skyblue',figsize = (16,5))"
   ]
  },
  {
   "cell_type": "code",
   "execution_count": null,
   "metadata": {},
   "outputs": [],
   "source": []
  }
 ],
 "metadata": {
  "kernelspec": {
   "display_name": "Python 3",
   "language": "python",
   "name": "python3"
  },
  "language_info": {
   "codemirror_mode": {
    "name": "ipython",
    "version": 3
   },
   "file_extension": ".py",
   "mimetype": "text/x-python",
   "name": "python",
   "nbconvert_exporter": "python",
   "pygments_lexer": "ipython3",
   "version": "3.7.3"
  }
 },
 "nbformat": 4,
 "nbformat_minor": 2
}
